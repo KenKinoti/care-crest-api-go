{
  "nbformat": 4,
  "nbformat_minor": 0,
  "metadata": {
    "colab": {
      "provenance": [],
      "include_colab_link": true
    },
    "kernelspec": {
      "name": "python3",
      "display_name": "Python 3"
    },
    "language_info": {
      "name": "python"
    }
  },
  "cells": [
    {
      "cell_type": "markdown",
      "metadata": {
        "id": "view-in-github",
        "colab_type": "text"
      },
      "source": [
        "<a href=\"https://colab.research.google.com/github/KenKinoti/care-crest-api-go/blob/main/Copy_of_Control_flow_ipynb_class_17th_October_2024.ipynb\" target=\"_parent\"><img src=\"https://colab.research.google.com/assets/colab-badge.svg\" alt=\"Open In Colab\"/></a>"
      ]
    },
    {
      "cell_type": "code",
      "execution_count": null,
      "metadata": {
        "id": "aRbc7Ipl_NdS"
      },
      "outputs": [],
      "source": [
        "# if\n",
        "\n",
        "if condition:\n",
        "  # executes if condition is true\n",
        "\n",
        "# elif\n",
        "\n",
        "elif another_condition:\n",
        "  # executes if another condition is true\n",
        "\n",
        "# else\n",
        "else:\n",
        "  # executed if none of the conditions are true"
      ]
    },
    {
      "cell_type": "code",
      "source": [
        "# example\n",
        "\n",
        "age = 25\n",
        "\n",
        "if age >= 25:\n",
        "  print(\"You can enter the club.\")\n",
        "else:\n",
        "  print(\"Boy Bye!\")"
      ],
      "metadata": {
        "colab": {
          "base_uri": "https://localhost:8080/"
        },
        "id": "cKB0_PZWAMZO",
        "outputId": "4fc19093-faaa-4f31-9f20-8a2cd8170a19"
      },
      "execution_count": null,
      "outputs": [
        {
          "output_type": "stream",
          "name": "stdout",
          "text": [
            "Boy Bye!\n"
          ]
        }
      ]
    },
    {
      "cell_type": "code",
      "source": [
        "# example with elif\n",
        "\n",
        "age = 24\n",
        "\n",
        "if age >= 25:\n",
        "  print(\"You can enter the club.\")\n",
        "elif age >= 24:\n",
        "  print(\"Come next Year\")\n",
        "else:\n",
        "  print(\"Boy Bye!\")"
      ],
      "metadata": {
        "colab": {
          "base_uri": "https://localhost:8080/"
        },
        "id": "XQE1uy5tBOt2",
        "outputId": "49361103-8a8a-44ae-eabd-4c5305fb0b7e"
      },
      "execution_count": null,
      "outputs": [
        {
          "output_type": "stream",
          "name": "stdout",
          "text": [
            "Come next Year\n"
          ]
        }
      ]
    },
    {
      "cell_type": "code",
      "source": [
        "score = 40\n",
        "\n",
        "if score >= 90:\n",
        "  print(\"A\")\n",
        "elif score >= 80:\n",
        "  print(\"B\")\n",
        "elif score >= 70:\n",
        "  print(\"C\")\n",
        "elif score <= 60:\n",
        "  print(\"Fail\")\n",
        "else:\n",
        "  print(\"D\")"
      ],
      "metadata": {
        "colab": {
          "base_uri": "https://localhost:8080/"
        },
        "id": "-ROuiTX9B3cr",
        "outputId": "79762693-cabb-4212-e38b-d7d4bc107f1f"
      },
      "execution_count": null,
      "outputs": [
        {
          "output_type": "stream",
          "name": "stdout",
          "text": [
            "Fail\n"
          ]
        }
      ]
    },
    {
      "cell_type": "code",
      "source": [
        "# working with lists\n",
        "\n",
        "age = [25, 43, 37, 62, 22, 17, 11, 51]\n",
        "for x in age:\n",
        "    print(x)"
      ],
      "metadata": {
        "id": "x71SSRv2DaZ1",
        "colab": {
          "base_uri": "https://localhost:8080/"
        },
        "outputId": "f942cbb0-1ba1-4d23-904e-ba2a187a1576"
      },
      "execution_count": null,
      "outputs": [
        {
          "output_type": "stream",
          "name": "stdout",
          "text": [
            "25\n",
            "43\n",
            "37\n",
            "62\n",
            "22\n",
            "17\n",
            "11\n",
            "51\n"
          ]
        }
      ]
    },
    {
      "cell_type": "code",
      "source": [
        "age = [25, 43, 37, 62, 22, 17, 11, 51]\n",
        "\n",
        "print(age[1:-3])"
      ],
      "metadata": {
        "colab": {
          "base_uri": "https://localhost:8080/"
        },
        "id": "p6ISaV_1R1uP",
        "outputId": "aa0d510f-953f-4fd3-d363-31934453e039"
      },
      "execution_count": null,
      "outputs": [
        {
          "output_type": "stream",
          "name": "stdout",
          "text": [
            "[43, 37, 62, 22]\n"
          ]
        }
      ]
    },
    {
      "cell_type": "code",
      "source": [
        "# list[start:stop:step]\n",
        "age = [25, 43, 37, 62, 22, 17, 11, 51]\n",
        "print(age[0:-2:2])"
      ],
      "metadata": {
        "colab": {
          "base_uri": "https://localhost:8080/"
        },
        "id": "Fybfj6cRTx6S",
        "outputId": "7d80fa27-ef1e-49cb-b26a-d30e4e646210"
      },
      "execution_count": null,
      "outputs": [
        {
          "output_type": "stream",
          "name": "stdout",
          "text": [
            "[25, 37, 22]\n"
          ]
        }
      ]
    },
    {
      "cell_type": "code",
      "source": [
        "print(age[1:]) #print all elemets startin at posn 1\n",
        "print(age[0:-2]) #print all elements from posn 0, excluding the last 2 elements on the list\n",
        "print(age[:4]) # prints elements starting at posn 0 to posn 3\n",
        "print(age[:]) #prints all the elements in the list"
      ],
      "metadata": {
        "colab": {
          "base_uri": "https://localhost:8080/"
        },
        "id": "QVtdCRrNV2oX",
        "outputId": "96fe5110-083c-4e82-99ba-bce4fc9c0be5"
      },
      "execution_count": null,
      "outputs": [
        {
          "output_type": "stream",
          "name": "stdout",
          "text": [
            "[43, 37, 62, 22, 17, 11, 51]\n",
            "[25, 43, 37, 62, 22, 17]\n",
            "[25, 43, 37, 62]\n",
            "[25, 43, 37, 62, 22, 17, 11, 51]\n"
          ]
        }
      ]
    },
    {
      "cell_type": "code",
      "source": [
        "dictionary = {\"name\":\"John\",\n",
        "              \"age\": 40,\n",
        "              \"work\": \"data analyst\"}\n",
        "\n",
        "for key in dictionary:\n",
        "  print(key)\n",
        "\n",
        "for value in dictionary.values():\n",
        "  print(value)"
      ],
      "metadata": {
        "colab": {
          "base_uri": "https://localhost:8080/"
        },
        "id": "YxRuWDLqXOh8",
        "outputId": "c701c1fe-2085-4680-9e7c-b6cbd34a0baa"
      },
      "execution_count": null,
      "outputs": [
        {
          "output_type": "stream",
          "name": "stdout",
          "text": [
            "name\n",
            "age\n",
            "work\n",
            "John\n",
            "40\n",
            "data analyst\n"
          ]
        }
      ]
    },
    {
      "cell_type": "code",
      "source": [
        "dictionary = {\"name\":\"John\",\n",
        "              \"age\": 40,\n",
        "              \"work\": \"data analyst\"}\n",
        "list(dictionary.values())"
      ],
      "metadata": {
        "id": "bUMbAQxzaaBi",
        "colab": {
          "base_uri": "https://localhost:8080/"
        },
        "outputId": "a7ff4b57-9c78-4e3d-ad58-65ab2f081273"
      },
      "execution_count": null,
      "outputs": [
        {
          "output_type": "execute_result",
          "data": {
            "text/plain": [
              "['John', 40, 'data analyst']"
            ]
          },
          "metadata": {},
          "execution_count": 6
        }
      ]
    },
    {
      "cell_type": "code",
      "source": [
        "print(dictionary[\"name\"])\n",
        "print(dictionary[\"age\"])\n",
        "print(dictionary[\"work\"])"
      ],
      "metadata": {
        "colab": {
          "base_uri": "https://localhost:8080/"
        },
        "id": "Lq4Yce76IfUg",
        "outputId": "3ea387eb-a147-46af-8929-11a25a356a3d"
      },
      "execution_count": null,
      "outputs": [
        {
          "output_type": "stream",
          "name": "stdout",
          "text": [
            "John\n",
            "40\n",
            "data analyst\n"
          ]
        }
      ]
    },
    {
      "cell_type": "code",
      "source": [
        "# modify elements\n",
        "dictionary['age'] = 55\n",
        "print(dictionary)"
      ],
      "metadata": {
        "colab": {
          "base_uri": "https://localhost:8080/"
        },
        "id": "uNpoUIPkJUlc",
        "outputId": "17b7fef9-dbc7-4c4b-91e6-17604d5721a5"
      },
      "execution_count": null,
      "outputs": [
        {
          "output_type": "stream",
          "name": "stdout",
          "text": [
            "{'name': 'John', 'age': 55, 'work': 'data analyst'}\n"
          ]
        }
      ]
    },
    {
      "cell_type": "code",
      "source": [
        "# adding a key-value pair\n",
        "dictionary['salary'] = 900000\n",
        "print(dictionary)"
      ],
      "metadata": {
        "colab": {
          "base_uri": "https://localhost:8080/"
        },
        "id": "ZLRHt7ZDKJSR",
        "outputId": "db27d941-2281-4492-8b3c-439f4bd582b5"
      },
      "execution_count": null,
      "outputs": [
        {
          "output_type": "stream",
          "name": "stdout",
          "text": [
            "{'name': 'John', 'age': 55, 'work': 'data analyst', 'salary': 900000}\n"
          ]
        }
      ]
    },
    {
      "cell_type": "code",
      "source": [
        "# remove a key-value pair\n",
        "del(dictionary['age'])\n",
        "print(dictionary)"
      ],
      "metadata": {
        "colab": {
          "base_uri": "https://localhost:8080/"
        },
        "id": "TddId8x9KtKr",
        "outputId": "853d8c82-ed4f-45d7-8fbf-1882d6a3c019"
      },
      "execution_count": null,
      "outputs": [
        {
          "output_type": "stream",
          "name": "stdout",
          "text": [
            "{'name': 'John', 'work': 'data analyst', 'salary': 900000}\n"
          ]
        }
      ]
    },
    {
      "cell_type": "code",
      "source": [
        "dictionary = {\"name\":\"John\",\n",
        "              \"age\": 40,\n",
        "              \"work\": \"data analyst\"}\n",
        "\n",
        "# for key in dictionary:\n",
        "#   print(key)\n",
        "\n",
        "# for value in dictionary.values():\n",
        "#   print(value)\n",
        "\n",
        "for key, value in dictionary.items():\n",
        "  print(f'{key}:{value}')"
      ],
      "metadata": {
        "colab": {
          "base_uri": "https://localhost:8080/"
        },
        "id": "FsCZcae9LHeH",
        "outputId": "a8013139-fe88-4766-ccf9-f8ec3ddb40fe"
      },
      "execution_count": null,
      "outputs": [
        {
          "output_type": "stream",
          "name": "stdout",
          "text": [
            "name:John\n",
            "age:40\n",
            "work:data analyst\n"
          ]
        }
      ]
    },
    {
      "cell_type": "code",
      "source": [
        "for x in dictionary.items():\n",
        "  print(x)"
      ],
      "metadata": {
        "colab": {
          "base_uri": "https://localhost:8080/"
        },
        "id": "_YrmcwzsLZHM",
        "outputId": "1186bb03-9f41-443d-a514-f7a9e86028d9"
      },
      "execution_count": null,
      "outputs": [
        {
          "output_type": "stream",
          "name": "stdout",
          "text": [
            "('name', 'John')\n",
            "('age', 40)\n",
            "('work', 'data analyst')\n"
          ]
        }
      ]
    },
    {
      "cell_type": "code",
      "source": [
        "# create a prog that counts the frequency of each character in a string\n",
        "\n",
        "string = 'hello world'\n",
        "char_count = {}\n",
        "\n",
        "# your code goes here\n"
      ],
      "metadata": {
        "id": "dTPUZMaFNPe9"
      },
      "execution_count": null,
      "outputs": []
    }
  ]
}